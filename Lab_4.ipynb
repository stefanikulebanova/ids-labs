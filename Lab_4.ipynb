{
  "nbformat": 4,
  "nbformat_minor": 0,
  "metadata": {
    "colab": {
      "provenance": []
    },
    "kernelspec": {
      "name": "python3",
      "display_name": "Python 3"
    },
    "language_info": {
      "name": "python"
    }
  },
  "cells": [
    {
      "cell_type": "markdown",
      "source": [
        "<ul><font size = 5 color='Orange'>\n",
        "Learning Goals</font>\n",
        "<font color = 'Orange'>\n",
        "<ul>We are using the same dataset as the previous laboratory exercise, now you need to build Neural networks</ul>\n",
        "\n",
        "<li>Build three different networks with using:</li>\n",
        "different layers, activation functions, neurans per layers, number of layers\n",
        "<li>train your network and set the optimal number of epochs and batch size</li>\n",
        "<li>Evaluate the three networks on the same test dataset</li>\n",
        "<li>Compare the results</li>\n",
        "</ul>"
      ],
      "metadata": {
        "id": "wsPEypIyjSq-"
      }
    },
    {
      "cell_type": "markdown",
      "source": [
        "The Dataset for this exercise depends on your index number i.e number_of_data_set = index % 10:\n",
        "\n",
        "\n",
        "0.  https://www.kaggle.com/tunguz/us-elections-dataset\n",
        "1.  https://www.kaggle.com/andrewmvd/heart-failure-clinical-data\n",
        "2.  https://www.kaggle.com/sootersaalu/amazon-top-50-bestselling-books-2009-2019\n",
        "3.  https://www.kaggle.com/anmolkumar/health-insurance-cross-sell-prediction\n",
        "4.  https://www.kaggle.com/uciml/red-wine-quality-cortez-et-al-2009\n",
        "5.  https://www.kaggle.com/anmolkumar/house-price-prediction-challenge\n",
        "6.  https://www.kaggle.com/datasets/tadhgfitzgerald/fifa-international-soccer-mens-ranking-1993now\n",
        "7.  https://www.kaggle.com/arslanali4343/real-estate-dataset\n",
        "8.  https://www.kaggle.com/terenceshin/covid19s-impact-on-airport-traffic\n",
        "9.  https://www.kaggle.com/arslanali4343/top-personality-dataset\n",
        "\n",
        "\n",
        "\n",
        "\n",
        "\n"
      ],
      "metadata": {
        "id": "qO5SWztjhay0"
      }
    },
    {
      "cell_type": "code",
      "source": [
        "from google.colab import drive\n",
        "drive.mount('/content/drive')"
      ],
      "metadata": {
        "id": "WORtycj8iCA8",
        "colab": {
          "base_uri": "https://localhost:8080/"
        },
        "outputId": "8f846edf-fa51-4e23-9474-68e31657b868"
      },
      "execution_count": 1,
      "outputs": [
        {
          "output_type": "stream",
          "name": "stdout",
          "text": [
            "Mounted at /content/drive\n"
          ]
        }
      ]
    },
    {
      "cell_type": "code",
      "execution_count": 2,
      "metadata": {
        "id": "tNi3STyahTOf"
      },
      "outputs": [],
      "source": [
        "import pandas as pd\n",
        "\n",
        "ds=pd.read_csv('/content/drive/MyDrive/fifa_ranking.csv')"
      ]
    },
    {
      "cell_type": "code",
      "source": [
        "ds.isnull().sum()\n"
      ],
      "metadata": {
        "colab": {
          "base_uri": "https://localhost:8080/"
        },
        "id": "aGkqwaGUGuH8",
        "outputId": "c223be68-d1d0-4351-a1cc-5698b68fbc4e"
      },
      "execution_count": 3,
      "outputs": [
        {
          "output_type": "execute_result",
          "data": {
            "text/plain": [
              "rank                       0\n",
              "country_full               0\n",
              "country_abrv               0\n",
              "total_points               0\n",
              "previous_points            0\n",
              "rank_change                0\n",
              "cur_year_avg               0\n",
              "cur_year_avg_weighted      0\n",
              "last_year_avg              0\n",
              "last_year_avg_weighted     0\n",
              "two_year_ago_avg           0\n",
              "two_year_ago_weighted      0\n",
              "three_year_ago_avg         0\n",
              "three_year_ago_weighted    0\n",
              "confederation              0\n",
              "rank_date                  0\n",
              "dtype: int64"
            ]
          },
          "metadata": {},
          "execution_count": 3
        }
      ]
    },
    {
      "cell_type": "code",
      "source": [
        "copy_ds = ds.copy()"
      ],
      "metadata": {
        "id": "lwv54Z0VHM9P"
      },
      "execution_count": 4,
      "outputs": []
    },
    {
      "cell_type": "code",
      "source": [
        "copy_ds.drop('country_full',axis='columns',inplace=True)\n",
        "copy_ds.drop('confederation',axis='columns',inplace=True)"
      ],
      "metadata": {
        "id": "3ZbDi1AYHPSZ"
      },
      "execution_count": 5,
      "outputs": []
    },
    {
      "cell_type": "code",
      "source": [
        "for column in ds.columns:\n",
        "  if column.endswith(\"weighted\"):\n",
        "     copy_ds.drop(column,axis='columns',inplace=True)"
      ],
      "metadata": {
        "id": "iRoVhcMiHWaX"
      },
      "execution_count": 6,
      "outputs": []
    },
    {
      "cell_type": "code",
      "source": [
        "from sklearn.preprocessing import LabelEncoder\n",
        "\n",
        "encoder = LabelEncoder()\n",
        "copy_ds['country_abrv'] = encoder.fit_transform(copy_ds['country_abrv'])\n",
        "\n",
        "encoder1 = LabelEncoder()\n",
        "copy_ds['rank_date'] = encoder1.fit_transform(copy_ds['rank_date'])"
      ],
      "metadata": {
        "id": "Rh9J_KH7HdUf"
      },
      "execution_count": 7,
      "outputs": []
    },
    {
      "cell_type": "code",
      "source": [
        "copy_ds"
      ],
      "metadata": {
        "colab": {
          "base_uri": "https://localhost:8080/",
          "height": 424
        },
        "id": "MJYbRuDHHlxD",
        "outputId": "bc06f5bf-142f-4f30-d5fb-0e0994f9c839"
      },
      "execution_count": 8,
      "outputs": [
        {
          "output_type": "execute_result",
          "data": {
            "text/plain": [
              "       rank  country_abrv  total_points  previous_points  rank_change  \\\n",
              "0         1            73           0.0               57            0   \n",
              "1         2            94           0.0               57            0   \n",
              "2         3           177           0.0               50            9   \n",
              "3         4           181           0.0               55            0   \n",
              "4         5             7           0.0               51            5   \n",
              "...     ...           ...           ...              ...          ...   \n",
              "57788   206             1           0.0                0            1   \n",
              "57789   206            15           0.0                0            1   \n",
              "57790   206            62           0.0                0            1   \n",
              "57791   206           172           0.0                0            1   \n",
              "57792   206           188           0.0                0            1   \n",
              "\n",
              "       cur_year_avg  last_year_avg  two_year_ago_avg  three_year_ago_avg  \\\n",
              "0               0.0            0.0               0.0                 0.0   \n",
              "1               0.0            0.0               0.0                 0.0   \n",
              "2               0.0            0.0               0.0                 0.0   \n",
              "3               0.0            0.0               0.0                 0.0   \n",
              "4               0.0            0.0               0.0                 0.0   \n",
              "...             ...            ...               ...                 ...   \n",
              "57788           0.0            0.0               0.0                 0.0   \n",
              "57789           0.0            0.0               0.0                 0.0   \n",
              "57790           0.0            0.0               0.0                 0.0   \n",
              "57791           0.0            0.0               0.0                 0.0   \n",
              "57792           0.0            0.0               0.0                 0.0   \n",
              "\n",
              "       rank_date  \n",
              "0              0  \n",
              "1              0  \n",
              "2              0  \n",
              "3              0  \n",
              "4              0  \n",
              "...          ...  \n",
              "57788        285  \n",
              "57789        285  \n",
              "57790        285  \n",
              "57791        285  \n",
              "57792        285  \n",
              "\n",
              "[57793 rows x 10 columns]"
            ],
            "text/html": [
              "\n",
              "  <div id=\"df-b558f381-dd33-468e-aa47-924770f14033\">\n",
              "    <div class=\"colab-df-container\">\n",
              "      <div>\n",
              "<style scoped>\n",
              "    .dataframe tbody tr th:only-of-type {\n",
              "        vertical-align: middle;\n",
              "    }\n",
              "\n",
              "    .dataframe tbody tr th {\n",
              "        vertical-align: top;\n",
              "    }\n",
              "\n",
              "    .dataframe thead th {\n",
              "        text-align: right;\n",
              "    }\n",
              "</style>\n",
              "<table border=\"1\" class=\"dataframe\">\n",
              "  <thead>\n",
              "    <tr style=\"text-align: right;\">\n",
              "      <th></th>\n",
              "      <th>rank</th>\n",
              "      <th>country_abrv</th>\n",
              "      <th>total_points</th>\n",
              "      <th>previous_points</th>\n",
              "      <th>rank_change</th>\n",
              "      <th>cur_year_avg</th>\n",
              "      <th>last_year_avg</th>\n",
              "      <th>two_year_ago_avg</th>\n",
              "      <th>three_year_ago_avg</th>\n",
              "      <th>rank_date</th>\n",
              "    </tr>\n",
              "  </thead>\n",
              "  <tbody>\n",
              "    <tr>\n",
              "      <th>0</th>\n",
              "      <td>1</td>\n",
              "      <td>73</td>\n",
              "      <td>0.0</td>\n",
              "      <td>57</td>\n",
              "      <td>0</td>\n",
              "      <td>0.0</td>\n",
              "      <td>0.0</td>\n",
              "      <td>0.0</td>\n",
              "      <td>0.0</td>\n",
              "      <td>0</td>\n",
              "    </tr>\n",
              "    <tr>\n",
              "      <th>1</th>\n",
              "      <td>2</td>\n",
              "      <td>94</td>\n",
              "      <td>0.0</td>\n",
              "      <td>57</td>\n",
              "      <td>0</td>\n",
              "      <td>0.0</td>\n",
              "      <td>0.0</td>\n",
              "      <td>0.0</td>\n",
              "      <td>0.0</td>\n",
              "      <td>0</td>\n",
              "    </tr>\n",
              "    <tr>\n",
              "      <th>2</th>\n",
              "      <td>3</td>\n",
              "      <td>177</td>\n",
              "      <td>0.0</td>\n",
              "      <td>50</td>\n",
              "      <td>9</td>\n",
              "      <td>0.0</td>\n",
              "      <td>0.0</td>\n",
              "      <td>0.0</td>\n",
              "      <td>0.0</td>\n",
              "      <td>0</td>\n",
              "    </tr>\n",
              "    <tr>\n",
              "      <th>3</th>\n",
              "      <td>4</td>\n",
              "      <td>181</td>\n",
              "      <td>0.0</td>\n",
              "      <td>55</td>\n",
              "      <td>0</td>\n",
              "      <td>0.0</td>\n",
              "      <td>0.0</td>\n",
              "      <td>0.0</td>\n",
              "      <td>0.0</td>\n",
              "      <td>0</td>\n",
              "    </tr>\n",
              "    <tr>\n",
              "      <th>4</th>\n",
              "      <td>5</td>\n",
              "      <td>7</td>\n",
              "      <td>0.0</td>\n",
              "      <td>51</td>\n",
              "      <td>5</td>\n",
              "      <td>0.0</td>\n",
              "      <td>0.0</td>\n",
              "      <td>0.0</td>\n",
              "      <td>0.0</td>\n",
              "      <td>0</td>\n",
              "    </tr>\n",
              "    <tr>\n",
              "      <th>...</th>\n",
              "      <td>...</td>\n",
              "      <td>...</td>\n",
              "      <td>...</td>\n",
              "      <td>...</td>\n",
              "      <td>...</td>\n",
              "      <td>...</td>\n",
              "      <td>...</td>\n",
              "      <td>...</td>\n",
              "      <td>...</td>\n",
              "      <td>...</td>\n",
              "    </tr>\n",
              "    <tr>\n",
              "      <th>57788</th>\n",
              "      <td>206</td>\n",
              "      <td>1</td>\n",
              "      <td>0.0</td>\n",
              "      <td>0</td>\n",
              "      <td>1</td>\n",
              "      <td>0.0</td>\n",
              "      <td>0.0</td>\n",
              "      <td>0.0</td>\n",
              "      <td>0.0</td>\n",
              "      <td>285</td>\n",
              "    </tr>\n",
              "    <tr>\n",
              "      <th>57789</th>\n",
              "      <td>206</td>\n",
              "      <td>15</td>\n",
              "      <td>0.0</td>\n",
              "      <td>0</td>\n",
              "      <td>1</td>\n",
              "      <td>0.0</td>\n",
              "      <td>0.0</td>\n",
              "      <td>0.0</td>\n",
              "      <td>0.0</td>\n",
              "      <td>285</td>\n",
              "    </tr>\n",
              "    <tr>\n",
              "      <th>57790</th>\n",
              "      <td>206</td>\n",
              "      <td>62</td>\n",
              "      <td>0.0</td>\n",
              "      <td>0</td>\n",
              "      <td>1</td>\n",
              "      <td>0.0</td>\n",
              "      <td>0.0</td>\n",
              "      <td>0.0</td>\n",
              "      <td>0.0</td>\n",
              "      <td>285</td>\n",
              "    </tr>\n",
              "    <tr>\n",
              "      <th>57791</th>\n",
              "      <td>206</td>\n",
              "      <td>172</td>\n",
              "      <td>0.0</td>\n",
              "      <td>0</td>\n",
              "      <td>1</td>\n",
              "      <td>0.0</td>\n",
              "      <td>0.0</td>\n",
              "      <td>0.0</td>\n",
              "      <td>0.0</td>\n",
              "      <td>285</td>\n",
              "    </tr>\n",
              "    <tr>\n",
              "      <th>57792</th>\n",
              "      <td>206</td>\n",
              "      <td>188</td>\n",
              "      <td>0.0</td>\n",
              "      <td>0</td>\n",
              "      <td>1</td>\n",
              "      <td>0.0</td>\n",
              "      <td>0.0</td>\n",
              "      <td>0.0</td>\n",
              "      <td>0.0</td>\n",
              "      <td>285</td>\n",
              "    </tr>\n",
              "  </tbody>\n",
              "</table>\n",
              "<p>57793 rows × 10 columns</p>\n",
              "</div>\n",
              "      <button class=\"colab-df-convert\" onclick=\"convertToInteractive('df-b558f381-dd33-468e-aa47-924770f14033')\"\n",
              "              title=\"Convert this dataframe to an interactive table.\"\n",
              "              style=\"display:none;\">\n",
              "        \n",
              "  <svg xmlns=\"http://www.w3.org/2000/svg\" height=\"24px\"viewBox=\"0 0 24 24\"\n",
              "       width=\"24px\">\n",
              "    <path d=\"M0 0h24v24H0V0z\" fill=\"none\"/>\n",
              "    <path d=\"M18.56 5.44l.94 2.06.94-2.06 2.06-.94-2.06-.94-.94-2.06-.94 2.06-2.06.94zm-11 1L8.5 8.5l.94-2.06 2.06-.94-2.06-.94L8.5 2.5l-.94 2.06-2.06.94zm10 10l.94 2.06.94-2.06 2.06-.94-2.06-.94-.94-2.06-.94 2.06-2.06.94z\"/><path d=\"M17.41 7.96l-1.37-1.37c-.4-.4-.92-.59-1.43-.59-.52 0-1.04.2-1.43.59L10.3 9.45l-7.72 7.72c-.78.78-.78 2.05 0 2.83L4 21.41c.39.39.9.59 1.41.59.51 0 1.02-.2 1.41-.59l7.78-7.78 2.81-2.81c.8-.78.8-2.07 0-2.86zM5.41 20L4 18.59l7.72-7.72 1.47 1.35L5.41 20z\"/>\n",
              "  </svg>\n",
              "      </button>\n",
              "      \n",
              "  <style>\n",
              "    .colab-df-container {\n",
              "      display:flex;\n",
              "      flex-wrap:wrap;\n",
              "      gap: 12px;\n",
              "    }\n",
              "\n",
              "    .colab-df-convert {\n",
              "      background-color: #E8F0FE;\n",
              "      border: none;\n",
              "      border-radius: 50%;\n",
              "      cursor: pointer;\n",
              "      display: none;\n",
              "      fill: #1967D2;\n",
              "      height: 32px;\n",
              "      padding: 0 0 0 0;\n",
              "      width: 32px;\n",
              "    }\n",
              "\n",
              "    .colab-df-convert:hover {\n",
              "      background-color: #E2EBFA;\n",
              "      box-shadow: 0px 1px 2px rgba(60, 64, 67, 0.3), 0px 1px 3px 1px rgba(60, 64, 67, 0.15);\n",
              "      fill: #174EA6;\n",
              "    }\n",
              "\n",
              "    [theme=dark] .colab-df-convert {\n",
              "      background-color: #3B4455;\n",
              "      fill: #D2E3FC;\n",
              "    }\n",
              "\n",
              "    [theme=dark] .colab-df-convert:hover {\n",
              "      background-color: #434B5C;\n",
              "      box-shadow: 0px 1px 3px 1px rgba(0, 0, 0, 0.15);\n",
              "      filter: drop-shadow(0px 1px 2px rgba(0, 0, 0, 0.3));\n",
              "      fill: #FFFFFF;\n",
              "    }\n",
              "  </style>\n",
              "\n",
              "      <script>\n",
              "        const buttonEl =\n",
              "          document.querySelector('#df-b558f381-dd33-468e-aa47-924770f14033 button.colab-df-convert');\n",
              "        buttonEl.style.display =\n",
              "          google.colab.kernel.accessAllowed ? 'block' : 'none';\n",
              "\n",
              "        async function convertToInteractive(key) {\n",
              "          const element = document.querySelector('#df-b558f381-dd33-468e-aa47-924770f14033');\n",
              "          const dataTable =\n",
              "            await google.colab.kernel.invokeFunction('convertToInteractive',\n",
              "                                                     [key], {});\n",
              "          if (!dataTable) return;\n",
              "\n",
              "          const docLinkHtml = 'Like what you see? Visit the ' +\n",
              "            '<a target=\"_blank\" href=https://colab.research.google.com/notebooks/data_table.ipynb>data table notebook</a>'\n",
              "            + ' to learn more about interactive tables.';\n",
              "          element.innerHTML = '';\n",
              "          dataTable['output_type'] = 'display_data';\n",
              "          await google.colab.output.renderOutput(dataTable, element);\n",
              "          const docLink = document.createElement('div');\n",
              "          docLink.innerHTML = docLinkHtml;\n",
              "          element.appendChild(docLink);\n",
              "        }\n",
              "      </script>\n",
              "    </div>\n",
              "  </div>\n",
              "  "
            ]
          },
          "metadata": {},
          "execution_count": 8
        }
      ]
    },
    {
      "cell_type": "code",
      "source": [
        "from sklearn.model_selection import train_test_split\n",
        "\n",
        "X_train, X_test, Y_train, Y_test = train_test_split(\n",
        "    copy_ds,  copy_ds['rank_change'], test_size=0.2)"
      ],
      "metadata": {
        "id": "fdwefwOFHx-f"
      },
      "execution_count": 9,
      "outputs": []
    },
    {
      "cell_type": "code",
      "source": [
        "X_train.shape"
      ],
      "metadata": {
        "colab": {
          "base_uri": "https://localhost:8080/"
        },
        "id": "sA5gZ83rJoGZ",
        "outputId": "fa1ee1bb-2b6e-4a62-9534-9930a29b082e"
      },
      "execution_count": 10,
      "outputs": [
        {
          "output_type": "execute_result",
          "data": {
            "text/plain": [
              "(46234, 10)"
            ]
          },
          "metadata": {},
          "execution_count": 10
        }
      ]
    },
    {
      "cell_type": "code",
      "source": [
        "from sklearn.preprocessing import StandardScaler\n",
        "sc = StandardScaler()\n",
        "X_train = sc.fit_transform(X_train)\n",
        "X_test = sc.transform(X_test)"
      ],
      "metadata": {
        "id": "XVxueIXLIY9l"
      },
      "execution_count": 11,
      "outputs": []
    },
    {
      "cell_type": "code",
      "source": [
        "from keras.models import Sequential\n",
        "from keras.layers import Dense\n",
        "from keras.layers import Dropout\n",
        "\n",
        "model1 = Sequential()\n",
        "  \n",
        "\n",
        "model1.add(Dense(160, input_dim=10, activation='relu'))\n",
        "model1.add(Dropout(0.2, input_shape=(16,)))\n",
        "model1.add(Dense(300, activation='relu'))\n",
        "model1.add(Dropout(0.2, input_shape=(8,)))\n",
        "model1.add(Dense(1, activation='linear'))"
      ],
      "metadata": {
        "id": "VUjhF-wTIlVh"
      },
      "execution_count": 12,
      "outputs": []
    },
    {
      "cell_type": "code",
      "source": [
        "model2 = Sequential()\n",
        "\n",
        "model2.add(Dense(216, input_dim=10, kernel_initializer='normal', activation='relu'))\n",
        "model2.add(Dense(512, kernel_initializer = 'normal', activation='relu'))\n",
        "model2.add(Dense(216, kernel_initializer = 'normal', activation='relu'))\n",
        "model2.add(Dense(1, activation='linear'))"
      ],
      "metadata": {
        "id": "uV2s-i6HIzyp"
      },
      "execution_count": 13,
      "outputs": []
    },
    {
      "cell_type": "code",
      "source": [
        "model3 = Sequential()\n",
        "\n",
        "model3.add(Dense(216, input_dim=10, kernel_initializer='normal', activation='sigmoid'))\n",
        "model3.add(Dense(512, kernel_initializer = 'normal', activation='relu'))\n",
        "model3.add(Dense(216, kernel_initializer = 'normal',activation='relu'))\n",
        "model3.add(Dense(340, kernel_initializer = 'normal',activation='relu'))\n",
        "model3.add(Dense(1, activation='linear'))"
      ],
      "metadata": {
        "id": "B41UxG3MKur0"
      },
      "execution_count": 14,
      "outputs": []
    },
    {
      "cell_type": "code",
      "source": [
        "model1.compile(loss='mse', optimizer='adam', metrics=['mse','mae'])\n",
        "model2.compile(optimizer='adam', loss='mse', metrics=['mse','mae'])\n",
        "model3.compile(optimizer='adam', loss='mse', metrics=['mse','mae'])"
      ],
      "metadata": {
        "id": "j_A9lz47MYry"
      },
      "execution_count": 15,
      "outputs": []
    },
    {
      "cell_type": "code",
      "source": [
        "model1.fit(X_train, Y_train, epochs=30, batch_size=5000)"
      ],
      "metadata": {
        "colab": {
          "base_uri": "https://localhost:8080/"
        },
        "id": "g7fm5PMobM8H",
        "outputId": "c7386412-4bb9-4b47-cfa8-a27c3d3ab316"
      },
      "execution_count": 16,
      "outputs": [
        {
          "output_type": "stream",
          "name": "stdout",
          "text": [
            "Epoch 1/30\n",
            "10/10 [==============================] - 1s 60ms/step - loss: 28.8080 - mse: 28.8080 - mae: 2.8912\n",
            "Epoch 2/30\n",
            "10/10 [==============================] - 1s 60ms/step - loss: 17.1332 - mse: 17.1332 - mae: 2.2125\n",
            "Epoch 3/30\n",
            "10/10 [==============================] - 1s 59ms/step - loss: 5.8937 - mse: 5.8937 - mae: 1.2476\n",
            "Epoch 4/30\n",
            "10/10 [==============================] - 1s 61ms/step - loss: 1.9181 - mse: 1.9181 - mae: 0.9803\n",
            "Epoch 5/30\n",
            "10/10 [==============================] - 1s 60ms/step - loss: 1.7295 - mse: 1.7295 - mae: 0.9802\n",
            "Epoch 6/30\n",
            "10/10 [==============================] - 1s 60ms/step - loss: 1.0636 - mse: 1.0636 - mae: 0.6959\n",
            "Epoch 7/30\n",
            "10/10 [==============================] - 1s 58ms/step - loss: 0.9319 - mse: 0.9319 - mae: 0.6490\n",
            "Epoch 8/30\n",
            "10/10 [==============================] - 1s 59ms/step - loss: 0.7975 - mse: 0.7975 - mae: 0.6389\n",
            "Epoch 9/30\n",
            "10/10 [==============================] - 1s 60ms/step - loss: 0.7013 - mse: 0.7013 - mae: 0.5897\n",
            "Epoch 10/30\n",
            "10/10 [==============================] - 1s 61ms/step - loss: 0.6539 - mse: 0.6539 - mae: 0.5568\n",
            "Epoch 11/30\n",
            "10/10 [==============================] - 1s 59ms/step - loss: 0.5847 - mse: 0.5847 - mae: 0.5376\n",
            "Epoch 12/30\n",
            "10/10 [==============================] - 1s 59ms/step - loss: 0.5459 - mse: 0.5459 - mae: 0.5141\n",
            "Epoch 13/30\n",
            "10/10 [==============================] - 1s 60ms/step - loss: 0.5067 - mse: 0.5067 - mae: 0.4918\n",
            "Epoch 14/30\n",
            "10/10 [==============================] - 1s 61ms/step - loss: 0.4763 - mse: 0.4763 - mae: 0.4751\n",
            "Epoch 15/30\n",
            "10/10 [==============================] - 1s 60ms/step - loss: 0.4492 - mse: 0.4492 - mae: 0.4562\n",
            "Epoch 16/30\n",
            "10/10 [==============================] - 1s 61ms/step - loss: 0.4311 - mse: 0.4311 - mae: 0.4430\n",
            "Epoch 17/30\n",
            "10/10 [==============================] - 1s 57ms/step - loss: 0.4226 - mse: 0.4226 - mae: 0.4331\n",
            "Epoch 18/30\n",
            "10/10 [==============================] - 1s 61ms/step - loss: 0.3998 - mse: 0.3998 - mae: 0.4198\n",
            "Epoch 19/30\n",
            "10/10 [==============================] - 1s 60ms/step - loss: 0.3789 - mse: 0.3789 - mae: 0.4075\n",
            "Epoch 20/30\n",
            "10/10 [==============================] - 1s 59ms/step - loss: 0.3624 - mse: 0.3624 - mae: 0.3980\n",
            "Epoch 21/30\n",
            "10/10 [==============================] - 1s 60ms/step - loss: 0.3522 - mse: 0.3522 - mae: 0.3845\n",
            "Epoch 22/30\n",
            "10/10 [==============================] - 1s 59ms/step - loss: 0.3468 - mse: 0.3468 - mae: 0.3802\n",
            "Epoch 23/30\n",
            "10/10 [==============================] - 1s 59ms/step - loss: 0.3300 - mse: 0.3300 - mae: 0.3719\n",
            "Epoch 24/30\n",
            "10/10 [==============================] - 1s 60ms/step - loss: 0.3340 - mse: 0.3340 - mae: 0.3667\n",
            "Epoch 25/30\n",
            "10/10 [==============================] - 1s 58ms/step - loss: 0.3205 - mse: 0.3205 - mae: 0.3580\n",
            "Epoch 26/30\n",
            "10/10 [==============================] - 1s 60ms/step - loss: 0.3200 - mse: 0.3200 - mae: 0.3532\n",
            "Epoch 27/30\n",
            "10/10 [==============================] - 1s 61ms/step - loss: 0.3022 - mse: 0.3022 - mae: 0.3441\n",
            "Epoch 28/30\n",
            "10/10 [==============================] - 1s 61ms/step - loss: 0.2847 - mse: 0.2847 - mae: 0.3344\n",
            "Epoch 29/30\n",
            "10/10 [==============================] - 1s 65ms/step - loss: 0.2783 - mse: 0.2783 - mae: 0.3307\n",
            "Epoch 30/30\n",
            "10/10 [==============================] - 1s 70ms/step - loss: 0.2927 - mse: 0.2927 - mae: 0.3301\n"
          ]
        },
        {
          "output_type": "execute_result",
          "data": {
            "text/plain": [
              "<keras.callbacks.History at 0x7f7b170b0670>"
            ]
          },
          "metadata": {},
          "execution_count": 16
        }
      ]
    },
    {
      "cell_type": "code",
      "source": [
        "model2.fit(X_train, Y_train, epochs=30, batch_size=5000)"
      ],
      "metadata": {
        "colab": {
          "base_uri": "https://localhost:8080/"
        },
        "id": "5W4XW34UYUdR",
        "outputId": "ea232f6b-6aa2-4ddb-86a2-53840631bb05"
      },
      "execution_count": 17,
      "outputs": [
        {
          "output_type": "stream",
          "name": "stdout",
          "text": [
            "Epoch 1/30\n",
            "10/10 [==============================] - 2s 120ms/step - loss: 28.1681 - mse: 28.1681 - mae: 2.8095\n",
            "Epoch 2/30\n",
            "10/10 [==============================] - 1s 114ms/step - loss: 7.1365 - mse: 7.1365 - mae: 1.2400\n",
            "Epoch 3/30\n",
            "10/10 [==============================] - 1s 113ms/step - loss: 1.7996 - mse: 1.7996 - mae: 0.8458\n",
            "Epoch 4/30\n",
            "10/10 [==============================] - 1s 117ms/step - loss: 0.7427 - mse: 0.7427 - mae: 0.4290\n",
            "Epoch 5/30\n",
            "10/10 [==============================] - 1s 114ms/step - loss: 0.2706 - mse: 0.2706 - mae: 0.3114\n",
            "Epoch 6/30\n",
            "10/10 [==============================] - 1s 115ms/step - loss: 0.1000 - mse: 0.1000 - mae: 0.1844\n",
            "Epoch 7/30\n",
            "10/10 [==============================] - 1s 120ms/step - loss: 0.0449 - mse: 0.0449 - mae: 0.1362\n",
            "Epoch 8/30\n",
            "10/10 [==============================] - 1s 113ms/step - loss: 0.0257 - mse: 0.0257 - mae: 0.1070\n",
            "Epoch 9/30\n",
            "10/10 [==============================] - 1s 113ms/step - loss: 0.0170 - mse: 0.0170 - mae: 0.0864\n",
            "Epoch 10/30\n",
            "10/10 [==============================] - 1s 112ms/step - loss: 0.0122 - mse: 0.0122 - mae: 0.0756\n",
            "Epoch 11/30\n",
            "10/10 [==============================] - 1s 112ms/step - loss: 0.0100 - mse: 0.0100 - mae: 0.0697\n",
            "Epoch 12/30\n",
            "10/10 [==============================] - 2s 192ms/step - loss: 0.0092 - mse: 0.0092 - mae: 0.0675\n",
            "Epoch 13/30\n",
            "10/10 [==============================] - 1s 140ms/step - loss: 0.0146 - mse: 0.0146 - mae: 0.0852\n",
            "Epoch 14/30\n",
            "10/10 [==============================] - 1s 114ms/step - loss: 0.0118 - mse: 0.0118 - mae: 0.0770\n",
            "Epoch 15/30\n",
            "10/10 [==============================] - 1s 120ms/step - loss: 0.0091 - mse: 0.0091 - mae: 0.0678\n",
            "Epoch 16/30\n",
            "10/10 [==============================] - 2s 196ms/step - loss: 0.0077 - mse: 0.0077 - mae: 0.0625\n",
            "Epoch 17/30\n",
            "10/10 [==============================] - 2s 201ms/step - loss: 0.0181 - mse: 0.0181 - mae: 0.0955\n",
            "Epoch 18/30\n",
            "10/10 [==============================] - 2s 142ms/step - loss: 0.0207 - mse: 0.0207 - mae: 0.1038\n",
            "Epoch 19/30\n",
            "10/10 [==============================] - 1s 117ms/step - loss: 0.0075 - mse: 0.0075 - mae: 0.0618\n",
            "Epoch 20/30\n",
            "10/10 [==============================] - 1s 114ms/step - loss: 0.0067 - mse: 0.0067 - mae: 0.0589\n",
            "Epoch 21/30\n",
            "10/10 [==============================] - 1s 116ms/step - loss: 0.0053 - mse: 0.0053 - mae: 0.0522\n",
            "Epoch 22/30\n",
            "10/10 [==============================] - 1s 114ms/step - loss: 0.0091 - mse: 0.0091 - mae: 0.0683\n",
            "Epoch 23/30\n",
            "10/10 [==============================] - 1s 121ms/step - loss: 0.0526 - mse: 0.0526 - mae: 0.1720\n",
            "Epoch 24/30\n",
            "10/10 [==============================] - 1s 117ms/step - loss: 0.0156 - mse: 0.0156 - mae: 0.0912\n",
            "Epoch 25/30\n",
            "10/10 [==============================] - 1s 114ms/step - loss: 0.0110 - mse: 0.0110 - mae: 0.0780\n",
            "Epoch 26/30\n",
            "10/10 [==============================] - 1s 113ms/step - loss: 0.0064 - mse: 0.0064 - mae: 0.0576\n",
            "Epoch 27/30\n",
            "10/10 [==============================] - 1s 114ms/step - loss: 0.0049 - mse: 0.0049 - mae: 0.0504\n",
            "Epoch 28/30\n",
            "10/10 [==============================] - 1s 117ms/step - loss: 0.0042 - mse: 0.0042 - mae: 0.0469\n",
            "Epoch 29/30\n",
            "10/10 [==============================] - 1s 113ms/step - loss: 0.0037 - mse: 0.0037 - mae: 0.0436\n",
            "Epoch 30/30\n",
            "10/10 [==============================] - 1s 114ms/step - loss: 0.0034 - mse: 0.0034 - mae: 0.0419\n"
          ]
        },
        {
          "output_type": "execute_result",
          "data": {
            "text/plain": [
              "<keras.callbacks.History at 0x7f7b1700d8e0>"
            ]
          },
          "metadata": {},
          "execution_count": 17
        }
      ]
    },
    {
      "cell_type": "code",
      "source": [
        "model3.fit(X_train, Y_train, epochs=30, batch_size=500)"
      ],
      "metadata": {
        "colab": {
          "base_uri": "https://localhost:8080/"
        },
        "id": "-W3-bhj8T4r3",
        "outputId": "17567c13-a868-4c07-dd44-d3e1b857b53c"
      },
      "execution_count": 18,
      "outputs": [
        {
          "output_type": "stream",
          "name": "stdout",
          "text": [
            "Epoch 1/30\n",
            "93/93 [==============================] - 3s 23ms/step - loss: 10.3380 - mse: 10.3380 - mae: 1.4501\n",
            "Epoch 2/30\n",
            "93/93 [==============================] - 2s 23ms/step - loss: 0.7113 - mse: 0.7113 - mae: 0.4326\n",
            "Epoch 3/30\n",
            "93/93 [==============================] - 2s 22ms/step - loss: 0.8721 - mse: 0.8721 - mae: 0.6412\n",
            "Epoch 4/30\n",
            "93/93 [==============================] - 2s 22ms/step - loss: 0.1201 - mse: 0.1201 - mae: 0.0905\n",
            "Epoch 5/30\n",
            "93/93 [==============================] - 2s 23ms/step - loss: 0.6373 - mse: 0.6373 - mae: 0.4833\n",
            "Epoch 6/30\n",
            "93/93 [==============================] - 2s 23ms/step - loss: 0.0821 - mse: 0.0821 - mae: 0.0853\n",
            "Epoch 7/30\n",
            "93/93 [==============================] - 2s 25ms/step - loss: 0.2935 - mse: 0.2935 - mae: 0.3672\n",
            "Epoch 8/30\n",
            "93/93 [==============================] - 2s 24ms/step - loss: 0.1295 - mse: 0.1295 - mae: 0.2076\n",
            "Epoch 9/30\n",
            "93/93 [==============================] - 2s 22ms/step - loss: 0.3049 - mse: 0.3049 - mae: 0.3897\n",
            "Epoch 10/30\n",
            "93/93 [==============================] - 2s 23ms/step - loss: 0.1744 - mse: 0.1744 - mae: 0.2488\n",
            "Epoch 11/30\n",
            "93/93 [==============================] - 2s 22ms/step - loss: 0.1032 - mse: 0.1032 - mae: 0.1777\n",
            "Epoch 12/30\n",
            "93/93 [==============================] - 2s 22ms/step - loss: 0.3599 - mse: 0.3599 - mae: 0.3690\n",
            "Epoch 13/30\n",
            "93/93 [==============================] - 2s 27ms/step - loss: 0.2065 - mse: 0.2065 - mae: 0.2080\n",
            "Epoch 14/30\n",
            "93/93 [==============================] - 2s 25ms/step - loss: 0.0826 - mse: 0.0826 - mae: 0.1446\n",
            "Epoch 15/30\n",
            "93/93 [==============================] - 2s 23ms/step - loss: 0.0993 - mse: 0.0993 - mae: 0.2034\n",
            "Epoch 16/30\n",
            "93/93 [==============================] - 2s 23ms/step - loss: 0.2154 - mse: 0.2154 - mae: 0.3047\n",
            "Epoch 17/30\n",
            "93/93 [==============================] - 2s 23ms/step - loss: 0.0367 - mse: 0.0367 - mae: 0.1066\n",
            "Epoch 18/30\n",
            "93/93 [==============================] - 2s 23ms/step - loss: 0.2634 - mse: 0.2634 - mae: 0.2991\n",
            "Epoch 19/30\n",
            "93/93 [==============================] - 2s 23ms/step - loss: 0.0228 - mse: 0.0228 - mae: 0.0649\n",
            "Epoch 20/30\n",
            "93/93 [==============================] - 2s 24ms/step - loss: 0.1572 - mse: 0.1572 - mae: 0.2588\n",
            "Epoch 21/30\n",
            "93/93 [==============================] - 2s 22ms/step - loss: 0.0597 - mse: 0.0597 - mae: 0.1283\n",
            "Epoch 22/30\n",
            "93/93 [==============================] - 2s 23ms/step - loss: 0.0913 - mse: 0.0913 - mae: 0.2101\n",
            "Epoch 23/30\n",
            "93/93 [==============================] - 2s 23ms/step - loss: 0.0397 - mse: 0.0397 - mae: 0.1529\n",
            "Epoch 24/30\n",
            "93/93 [==============================] - 2s 23ms/step - loss: 0.1924 - mse: 0.1924 - mae: 0.3018\n",
            "Epoch 25/30\n",
            "93/93 [==============================] - 2s 22ms/step - loss: 0.0223 - mse: 0.0223 - mae: 0.0880\n",
            "Epoch 26/30\n",
            "93/93 [==============================] - 2s 24ms/step - loss: 0.0185 - mse: 0.0185 - mae: 0.0937\n",
            "Epoch 27/30\n",
            "93/93 [==============================] - 2s 27ms/step - loss: 0.1099 - mse: 0.1099 - mae: 0.2036\n",
            "Epoch 28/30\n",
            "93/93 [==============================] - 2s 26ms/step - loss: 0.0285 - mse: 0.0285 - mae: 0.1254\n",
            "Epoch 29/30\n",
            "93/93 [==============================] - 2s 22ms/step - loss: 0.0692 - mse: 0.0692 - mae: 0.1985\n",
            "Epoch 30/30\n",
            "93/93 [==============================] - 2s 23ms/step - loss: 0.0357 - mse: 0.0357 - mae: 0.1295\n"
          ]
        },
        {
          "output_type": "execute_result",
          "data": {
            "text/plain": [
              "<keras.callbacks.History at 0x7f7b16f17e50>"
            ]
          },
          "metadata": {},
          "execution_count": 18
        }
      ]
    },
    {
      "cell_type": "code",
      "source": [
        "from sklearn.metrics import r2_score, mean_absolute_error"
      ],
      "metadata": {
        "id": "grjLcOj6ODrY"
      },
      "execution_count": 19,
      "outputs": []
    },
    {
      "cell_type": "code",
      "source": [
        "scores = []\n",
        "errors = []"
      ],
      "metadata": {
        "id": "vyIZk1B2V1UV"
      },
      "execution_count": 20,
      "outputs": []
    },
    {
      "cell_type": "code",
      "source": [
        "y_pred = model1.predict(X_test)\n",
        "scores.append(r2_score(Y_test, y_pred))\n",
        "errors.append(mean_absolute_error(Y_test, y_pred))"
      ],
      "metadata": {
        "colab": {
          "base_uri": "https://localhost:8080/"
        },
        "id": "-rd-DVZxW3Y5",
        "outputId": "8fd110f5-d269-4c4b-d526-6b4602e36312"
      },
      "execution_count": 21,
      "outputs": [
        {
          "output_type": "stream",
          "name": "stdout",
          "text": [
            "362/362 [==============================] - 1s 1ms/step\n"
          ]
        }
      ]
    },
    {
      "cell_type": "code",
      "source": [
        "y_pred2 = model2.predict(X_test)\n",
        "scores.append(r2_score(Y_test, y_pred2))\n",
        "errors.append(mean_absolute_error(Y_test, y_pred2))"
      ],
      "metadata": {
        "colab": {
          "base_uri": "https://localhost:8080/"
        },
        "id": "2-pCa75HXu3B",
        "outputId": "8fd2248a-89fc-42b1-f0db-a82468af3ec2"
      },
      "execution_count": 22,
      "outputs": [
        {
          "output_type": "stream",
          "name": "stdout",
          "text": [
            "362/362 [==============================] - 1s 2ms/step\n"
          ]
        }
      ]
    },
    {
      "cell_type": "code",
      "source": [
        "y_pred3 = model3.predict(X_test)\n",
        "scores.append(r2_score(Y_test, y_pred3))\n",
        "errors.append(mean_absolute_error(Y_test, y_pred3))"
      ],
      "metadata": {
        "colab": {
          "base_uri": "https://localhost:8080/"
        },
        "id": "0MOlWuWlZpWE",
        "outputId": "3725f47d-1a25-47d3-a232-03b2eb7eafe2"
      },
      "execution_count": 23,
      "outputs": [
        {
          "output_type": "stream",
          "name": "stdout",
          "text": [
            "362/362 [==============================] - 1s 2ms/step\n"
          ]
        }
      ]
    },
    {
      "cell_type": "code",
      "source": [
        "for i in range(len(scores)):\n",
        "  print(f'model {i} r2 score: {scores[i]}')\n",
        "  print(f'model {i} mean absolute error: {errors[i]}')\n",
        "  print()"
      ],
      "metadata": {
        "colab": {
          "base_uri": "https://localhost:8080/"
        },
        "id": "ENC567gUWF3H",
        "outputId": "097f1289-1961-440f-8218-1b0d35b7f830"
      },
      "execution_count": 24,
      "outputs": [
        {
          "output_type": "stream",
          "name": "stdout",
          "text": [
            "model 0 r2 score: 0.9996471334989254\n",
            "model 0 mean absolute error: 0.07474714121553676\n",
            "\n",
            "model 1 r2 score: 0.9999059872924996\n",
            "model 1 mean absolute error: 0.04002009687466815\n",
            "\n",
            "model 2 r2 score: 0.9932056536550828\n",
            "model 2 mean absolute error: 0.4779360415211742\n",
            "\n"
          ]
        }
      ]
    },
    {
      "cell_type": "markdown",
      "source": [
        "The best model appears to be the second one, while the third model is significantly worse than the other two."
      ],
      "metadata": {
        "id": "4f_HMoNLZ8Fo"
      }
    }
  ]
}